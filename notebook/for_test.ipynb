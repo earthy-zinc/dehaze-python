{
 "cells": [
  {
   "cell_type": "code",
   "execution_count": 1,
   "id": "initial_id",
   "metadata": {
    "collapsed": true,
    "ExecuteTime": {
     "end_time": "2023-11-14T08:38:08.749060200Z",
     "start_time": "2023-11-14T08:38:08.735190500Z"
    }
   },
   "outputs": [
    {
     "name": "stdout",
     "output_type": "stream",
     "text": [
      "env: BASICSR_JIT=True\n"
     ]
    }
   ],
   "source": [
    "%env BASICSR_JIT=True"
   ]
  },
  {
   "cell_type": "code",
   "execution_count": 2,
   "outputs": [
    {
     "ename": "RuntimeError",
     "evalue": "Ninja is required to load C++ extensions",
     "output_type": "error",
     "traceback": [
      "\u001B[0;31m---------------------------------------------------------------------------\u001B[0m",
      "\u001B[0;31mRuntimeError\u001B[0m                              Traceback (most recent call last)",
      "Cell \u001B[0;32mIn[2], line 1\u001B[0m\n\u001B[0;32m----> 1\u001B[0m \u001B[38;5;28;01mfrom\u001B[39;00m \u001B[38;5;21;01mbenchmark\u001B[39;00m\u001B[38;5;21;01m.\u001B[39;00m\u001B[38;5;21;01mRIDCP\u001B[39;00m\u001B[38;5;21;01m.\u001B[39;00m\u001B[38;5;21;01mrun\u001B[39;00m \u001B[38;5;28;01mimport\u001B[39;00m get_model\n",
      "File \u001B[0;32m/quzhong_fix/wpx/Deeplearning/dehazing_system/benchmark/RIDCP/run.py:7\u001B[0m\n\u001B[1;32m      4\u001B[0m \u001B[38;5;28;01mimport\u001B[39;00m \u001B[38;5;21;01mtorch\u001B[39;00m\n\u001B[1;32m      5\u001B[0m \u001B[38;5;28;01mimport\u001B[39;00m \u001B[38;5;21;01mtorchvision\u001B[39;00m\u001B[38;5;21;01m.\u001B[39;00m\u001B[38;5;21;01mutils\u001B[39;00m\n\u001B[0;32m----> 7\u001B[0m \u001B[38;5;28;01mfrom\u001B[39;00m \u001B[38;5;21;01mbenchmark\u001B[39;00m\u001B[38;5;21;01m.\u001B[39;00m\u001B[38;5;21;01mRIDCP\u001B[39;00m\u001B[38;5;21;01m.\u001B[39;00m\u001B[38;5;21;01mdehaze_vq_weight_arch\u001B[39;00m \u001B[38;5;28;01mimport\u001B[39;00m VQWeightDehazeNet\n\u001B[1;32m      8\u001B[0m \u001B[38;5;28;01mfrom\u001B[39;00m \u001B[38;5;21;01mglobal_variable\u001B[39;00m \u001B[38;5;28;01mimport\u001B[39;00m MODEL_PATH, DEVICE\n\u001B[1;32m     11\u001B[0m \u001B[38;5;28;01mdef\u001B[39;00m \u001B[38;5;21mget_model\u001B[39m(model_name: \u001B[38;5;28mstr\u001B[39m):\n\u001B[1;32m     12\u001B[0m     \u001B[38;5;66;03m# 构造模型文件的绝对路径\u001B[39;00m\n",
      "File \u001B[0;32m/quzhong_fix/wpx/Deeplearning/dehazing_system/benchmark/RIDCP/dehaze_vq_weight_arch.py:10\u001B[0m\n\u001B[1;32m      7\u001B[0m \u001B[38;5;28;01mimport\u001B[39;00m \u001B[38;5;21;01mmath\u001B[39;00m\n\u001B[1;32m      9\u001B[0m \u001B[38;5;28;01mfrom\u001B[39;00m \u001B[38;5;21;01mglobal_variable\u001B[39;00m \u001B[38;5;28;01mimport\u001B[39;00m MODEL_PATH\n\u001B[0;32m---> 10\u001B[0m \u001B[38;5;28;01mfrom\u001B[39;00m \u001B[38;5;21;01m.\u001B[39;00m\u001B[38;5;21;01mdcn\u001B[39;00m \u001B[38;5;28;01mimport\u001B[39;00m ModulatedDeformConvPack, modulated_deform_conv\n\u001B[1;32m     12\u001B[0m \u001B[38;5;28;01mfrom\u001B[39;00m \u001B[38;5;21;01m.\u001B[39;00m\u001B[38;5;21;01mnetwork_swinir\u001B[39;00m \u001B[38;5;28;01mimport\u001B[39;00m RSTB\n\u001B[1;32m     13\u001B[0m \u001B[38;5;28;01mfrom\u001B[39;00m \u001B[38;5;21;01m.\u001B[39;00m\u001B[38;5;21;01mridcp_utils\u001B[39;00m \u001B[38;5;28;01mimport\u001B[39;00m ResBlock, CombineQuantBlock\n",
      "File \u001B[0;32m/quzhong_fix/wpx/Deeplearning/dehazing_system/benchmark/RIDCP/dcn/__init__.py:1\u001B[0m\n\u001B[0;32m----> 1\u001B[0m \u001B[38;5;28;01mfrom\u001B[39;00m \u001B[38;5;21;01m.\u001B[39;00m\u001B[38;5;21;01mdeform_conv\u001B[39;00m \u001B[38;5;28;01mimport\u001B[39;00m (DeformConv, DeformConvPack, ModulatedDeformConv, ModulatedDeformConvPack, deform_conv,\n\u001B[1;32m      2\u001B[0m                           modulated_deform_conv)\n\u001B[1;32m      4\u001B[0m __all__ \u001B[38;5;241m=\u001B[39m [\n\u001B[1;32m      5\u001B[0m     \u001B[38;5;124m'\u001B[39m\u001B[38;5;124mDeformConv\u001B[39m\u001B[38;5;124m'\u001B[39m, \u001B[38;5;124m'\u001B[39m\u001B[38;5;124mDeformConvPack\u001B[39m\u001B[38;5;124m'\u001B[39m, \u001B[38;5;124m'\u001B[39m\u001B[38;5;124mModulatedDeformConv\u001B[39m\u001B[38;5;124m'\u001B[39m, \u001B[38;5;124m'\u001B[39m\u001B[38;5;124mModulatedDeformConvPack\u001B[39m\u001B[38;5;124m'\u001B[39m, \u001B[38;5;124m'\u001B[39m\u001B[38;5;124mdeform_conv\u001B[39m\u001B[38;5;124m'\u001B[39m,\n\u001B[1;32m      6\u001B[0m     \u001B[38;5;124m'\u001B[39m\u001B[38;5;124mmodulated_deform_conv\u001B[39m\u001B[38;5;124m'\u001B[39m\n\u001B[1;32m      7\u001B[0m ]\n",
      "File \u001B[0;32m/quzhong_fix/wpx/Deeplearning/dehazing_system/benchmark/RIDCP/dcn/deform_conv.py:14\u001B[0m\n\u001B[1;32m     12\u001B[0m     \u001B[38;5;28;01mfrom\u001B[39;00m \u001B[38;5;21;01mtorch\u001B[39;00m\u001B[38;5;21;01m.\u001B[39;00m\u001B[38;5;21;01mutils\u001B[39;00m\u001B[38;5;21;01m.\u001B[39;00m\u001B[38;5;21;01mcpp_extension\u001B[39;00m \u001B[38;5;28;01mimport\u001B[39;00m load\n\u001B[1;32m     13\u001B[0m     module_path \u001B[38;5;241m=\u001B[39m os\u001B[38;5;241m.\u001B[39mpath\u001B[38;5;241m.\u001B[39mdirname(\u001B[38;5;18m__file__\u001B[39m)\n\u001B[0;32m---> 14\u001B[0m     deform_conv_ext \u001B[38;5;241m=\u001B[39m \u001B[43mload\u001B[49m\u001B[43m(\u001B[49m\n\u001B[1;32m     15\u001B[0m \u001B[43m        \u001B[49m\u001B[38;5;124;43m'\u001B[39;49m\u001B[38;5;124;43mdeform_conv\u001B[39;49m\u001B[38;5;124;43m'\u001B[39;49m\u001B[43m,\u001B[49m\n\u001B[1;32m     16\u001B[0m \u001B[43m        \u001B[49m\u001B[43msources\u001B[49m\u001B[38;5;241;43m=\u001B[39;49m\u001B[43m[\u001B[49m\n\u001B[1;32m     17\u001B[0m \u001B[43m            \u001B[49m\u001B[43mos\u001B[49m\u001B[38;5;241;43m.\u001B[39;49m\u001B[43mpath\u001B[49m\u001B[38;5;241;43m.\u001B[39;49m\u001B[43mjoin\u001B[49m\u001B[43m(\u001B[49m\u001B[43mmodule_path\u001B[49m\u001B[43m,\u001B[49m\u001B[43m \u001B[49m\u001B[38;5;124;43m'\u001B[39;49m\u001B[38;5;124;43msrc\u001B[39;49m\u001B[38;5;124;43m'\u001B[39;49m\u001B[43m,\u001B[49m\u001B[43m \u001B[49m\u001B[38;5;124;43m'\u001B[39;49m\u001B[38;5;124;43mdeform_conv_ext.cpp\u001B[39;49m\u001B[38;5;124;43m'\u001B[39;49m\u001B[43m)\u001B[49m\u001B[43m,\u001B[49m\n\u001B[1;32m     18\u001B[0m \u001B[43m            \u001B[49m\u001B[43mos\u001B[49m\u001B[38;5;241;43m.\u001B[39;49m\u001B[43mpath\u001B[49m\u001B[38;5;241;43m.\u001B[39;49m\u001B[43mjoin\u001B[49m\u001B[43m(\u001B[49m\u001B[43mmodule_path\u001B[49m\u001B[43m,\u001B[49m\u001B[43m \u001B[49m\u001B[38;5;124;43m'\u001B[39;49m\u001B[38;5;124;43msrc\u001B[39;49m\u001B[38;5;124;43m'\u001B[39;49m\u001B[43m,\u001B[49m\u001B[43m \u001B[49m\u001B[38;5;124;43m'\u001B[39;49m\u001B[38;5;124;43mdeform_conv_cuda.cpp\u001B[39;49m\u001B[38;5;124;43m'\u001B[39;49m\u001B[43m)\u001B[49m\u001B[43m,\u001B[49m\n\u001B[1;32m     19\u001B[0m \u001B[43m            \u001B[49m\u001B[43mos\u001B[49m\u001B[38;5;241;43m.\u001B[39;49m\u001B[43mpath\u001B[49m\u001B[38;5;241;43m.\u001B[39;49m\u001B[43mjoin\u001B[49m\u001B[43m(\u001B[49m\u001B[43mmodule_path\u001B[49m\u001B[43m,\u001B[49m\u001B[43m \u001B[49m\u001B[38;5;124;43m'\u001B[39;49m\u001B[38;5;124;43msrc\u001B[39;49m\u001B[38;5;124;43m'\u001B[39;49m\u001B[43m,\u001B[49m\u001B[43m \u001B[49m\u001B[38;5;124;43m'\u001B[39;49m\u001B[38;5;124;43mdeform_conv_cuda_kernel.cu\u001B[39;49m\u001B[38;5;124;43m'\u001B[39;49m\u001B[43m)\u001B[49m\u001B[43m,\u001B[49m\n\u001B[1;32m     20\u001B[0m \u001B[43m        \u001B[49m\u001B[43m]\u001B[49m\u001B[43m,\u001B[49m\n\u001B[1;32m     21\u001B[0m \u001B[43m    \u001B[49m\u001B[43m)\u001B[49m\n\u001B[1;32m     22\u001B[0m \u001B[38;5;28;01melse\u001B[39;00m:\n\u001B[1;32m     23\u001B[0m     \u001B[38;5;28;01mtry\u001B[39;00m:\n",
      "File \u001B[0;32m~/miniconda3/envs/ridcp/lib/python3.8/site-packages/torch/utils/cpp_extension.py:1079\u001B[0m, in \u001B[0;36mload\u001B[0;34m(name, sources, extra_cflags, extra_cuda_cflags, extra_ldflags, extra_include_paths, build_directory, verbose, with_cuda, is_python_module, is_standalone, keep_intermediates)\u001B[0m\n\u001B[1;32m    988\u001B[0m \u001B[38;5;28;01mdef\u001B[39;00m \u001B[38;5;21mload\u001B[39m(name,\n\u001B[1;32m    989\u001B[0m          sources: Union[\u001B[38;5;28mstr\u001B[39m, List[\u001B[38;5;28mstr\u001B[39m]],\n\u001B[1;32m    990\u001B[0m          extra_cflags\u001B[38;5;241m=\u001B[39m\u001B[38;5;28;01mNone\u001B[39;00m,\n\u001B[0;32m   (...)\u001B[0m\n\u001B[1;32m    998\u001B[0m          is_standalone\u001B[38;5;241m=\u001B[39m\u001B[38;5;28;01mFalse\u001B[39;00m,\n\u001B[1;32m    999\u001B[0m          keep_intermediates\u001B[38;5;241m=\u001B[39m\u001B[38;5;28;01mTrue\u001B[39;00m):\n\u001B[1;32m   1000\u001B[0m \u001B[38;5;250m    \u001B[39m\u001B[38;5;124mr\u001B[39m\u001B[38;5;124;03m'''\u001B[39;00m\n\u001B[1;32m   1001\u001B[0m \u001B[38;5;124;03m    Loads a PyTorch C++ extension just-in-time (JIT).\u001B[39;00m\n\u001B[1;32m   1002\u001B[0m \n\u001B[0;32m   (...)\u001B[0m\n\u001B[1;32m   1077\u001B[0m \u001B[38;5;124;03m                verbose=True)\u001B[39;00m\n\u001B[1;32m   1078\u001B[0m \u001B[38;5;124;03m    '''\u001B[39;00m\n\u001B[0;32m-> 1079\u001B[0m     \u001B[38;5;28;01mreturn\u001B[39;00m \u001B[43m_jit_compile\u001B[49m\u001B[43m(\u001B[49m\n\u001B[1;32m   1080\u001B[0m \u001B[43m        \u001B[49m\u001B[43mname\u001B[49m\u001B[43m,\u001B[49m\n\u001B[1;32m   1081\u001B[0m \u001B[43m        \u001B[49m\u001B[43m[\u001B[49m\u001B[43msources\u001B[49m\u001B[43m]\u001B[49m\u001B[43m \u001B[49m\u001B[38;5;28;43;01mif\u001B[39;49;00m\u001B[43m \u001B[49m\u001B[38;5;28;43misinstance\u001B[39;49m\u001B[43m(\u001B[49m\u001B[43msources\u001B[49m\u001B[43m,\u001B[49m\u001B[43m \u001B[49m\u001B[38;5;28;43mstr\u001B[39;49m\u001B[43m)\u001B[49m\u001B[43m \u001B[49m\u001B[38;5;28;43;01melse\u001B[39;49;00m\u001B[43m \u001B[49m\u001B[43msources\u001B[49m\u001B[43m,\u001B[49m\n\u001B[1;32m   1082\u001B[0m \u001B[43m        \u001B[49m\u001B[43mextra_cflags\u001B[49m\u001B[43m,\u001B[49m\n\u001B[1;32m   1083\u001B[0m \u001B[43m        \u001B[49m\u001B[43mextra_cuda_cflags\u001B[49m\u001B[43m,\u001B[49m\n\u001B[1;32m   1084\u001B[0m \u001B[43m        \u001B[49m\u001B[43mextra_ldflags\u001B[49m\u001B[43m,\u001B[49m\n\u001B[1;32m   1085\u001B[0m \u001B[43m        \u001B[49m\u001B[43mextra_include_paths\u001B[49m\u001B[43m,\u001B[49m\n\u001B[1;32m   1086\u001B[0m \u001B[43m        \u001B[49m\u001B[43mbuild_directory\u001B[49m\u001B[43m \u001B[49m\u001B[38;5;129;43;01mor\u001B[39;49;00m\u001B[43m \u001B[49m\u001B[43m_get_build_directory\u001B[49m\u001B[43m(\u001B[49m\u001B[43mname\u001B[49m\u001B[43m,\u001B[49m\u001B[43m \u001B[49m\u001B[43mverbose\u001B[49m\u001B[43m)\u001B[49m\u001B[43m,\u001B[49m\n\u001B[1;32m   1087\u001B[0m \u001B[43m        \u001B[49m\u001B[43mverbose\u001B[49m\u001B[43m,\u001B[49m\n\u001B[1;32m   1088\u001B[0m \u001B[43m        \u001B[49m\u001B[43mwith_cuda\u001B[49m\u001B[43m,\u001B[49m\n\u001B[1;32m   1089\u001B[0m \u001B[43m        \u001B[49m\u001B[43mis_python_module\u001B[49m\u001B[43m,\u001B[49m\n\u001B[1;32m   1090\u001B[0m \u001B[43m        \u001B[49m\u001B[43mis_standalone\u001B[49m\u001B[43m,\u001B[49m\n\u001B[1;32m   1091\u001B[0m \u001B[43m        \u001B[49m\u001B[43mkeep_intermediates\u001B[49m\u001B[38;5;241;43m=\u001B[39;49m\u001B[43mkeep_intermediates\u001B[49m\u001B[43m)\u001B[49m\n",
      "File \u001B[0;32m~/miniconda3/envs/ridcp/lib/python3.8/site-packages/torch/utils/cpp_extension.py:1292\u001B[0m, in \u001B[0;36m_jit_compile\u001B[0;34m(name, sources, extra_cflags, extra_cuda_cflags, extra_ldflags, extra_include_paths, build_directory, verbose, with_cuda, is_python_module, is_standalone, keep_intermediates)\u001B[0m\n\u001B[1;32m   1282\u001B[0m         \u001B[38;5;28;01mif\u001B[39;00m IS_HIP_EXTENSION \u001B[38;5;129;01mand\u001B[39;00m (with_cuda \u001B[38;5;129;01mor\u001B[39;00m with_cudnn):\n\u001B[1;32m   1283\u001B[0m             hipify_python\u001B[38;5;241m.\u001B[39mhipify(\n\u001B[1;32m   1284\u001B[0m                 project_directory\u001B[38;5;241m=\u001B[39mbuild_directory,\n\u001B[1;32m   1285\u001B[0m                 output_directory\u001B[38;5;241m=\u001B[39mbuild_directory,\n\u001B[0;32m   (...)\u001B[0m\n\u001B[1;32m   1290\u001B[0m                 clean_ctx\u001B[38;5;241m=\u001B[39mclean_ctx\n\u001B[1;32m   1291\u001B[0m             )\n\u001B[0;32m-> 1292\u001B[0m         \u001B[43m_write_ninja_file_and_build_library\u001B[49m\u001B[43m(\u001B[49m\n\u001B[1;32m   1293\u001B[0m \u001B[43m            \u001B[49m\u001B[43mname\u001B[49m\u001B[38;5;241;43m=\u001B[39;49m\u001B[43mname\u001B[49m\u001B[43m,\u001B[49m\n\u001B[1;32m   1294\u001B[0m \u001B[43m            \u001B[49m\u001B[43msources\u001B[49m\u001B[38;5;241;43m=\u001B[39;49m\u001B[43msources\u001B[49m\u001B[43m,\u001B[49m\n\u001B[1;32m   1295\u001B[0m \u001B[43m            \u001B[49m\u001B[43mextra_cflags\u001B[49m\u001B[38;5;241;43m=\u001B[39;49m\u001B[43mextra_cflags\u001B[49m\u001B[43m \u001B[49m\u001B[38;5;129;43;01mor\u001B[39;49;00m\u001B[43m \u001B[49m\u001B[43m[\u001B[49m\u001B[43m]\u001B[49m\u001B[43m,\u001B[49m\n\u001B[1;32m   1296\u001B[0m \u001B[43m            \u001B[49m\u001B[43mextra_cuda_cflags\u001B[49m\u001B[38;5;241;43m=\u001B[39;49m\u001B[43mextra_cuda_cflags\u001B[49m\u001B[43m \u001B[49m\u001B[38;5;129;43;01mor\u001B[39;49;00m\u001B[43m \u001B[49m\u001B[43m[\u001B[49m\u001B[43m]\u001B[49m\u001B[43m,\u001B[49m\n\u001B[1;32m   1297\u001B[0m \u001B[43m            \u001B[49m\u001B[43mextra_ldflags\u001B[49m\u001B[38;5;241;43m=\u001B[39;49m\u001B[43mextra_ldflags\u001B[49m\u001B[43m \u001B[49m\u001B[38;5;129;43;01mor\u001B[39;49;00m\u001B[43m \u001B[49m\u001B[43m[\u001B[49m\u001B[43m]\u001B[49m\u001B[43m,\u001B[49m\n\u001B[1;32m   1298\u001B[0m \u001B[43m            \u001B[49m\u001B[43mextra_include_paths\u001B[49m\u001B[38;5;241;43m=\u001B[39;49m\u001B[43mextra_include_paths\u001B[49m\u001B[43m \u001B[49m\u001B[38;5;129;43;01mor\u001B[39;49;00m\u001B[43m \u001B[49m\u001B[43m[\u001B[49m\u001B[43m]\u001B[49m\u001B[43m,\u001B[49m\n\u001B[1;32m   1299\u001B[0m \u001B[43m            \u001B[49m\u001B[43mbuild_directory\u001B[49m\u001B[38;5;241;43m=\u001B[39;49m\u001B[43mbuild_directory\u001B[49m\u001B[43m,\u001B[49m\n\u001B[1;32m   1300\u001B[0m \u001B[43m            \u001B[49m\u001B[43mverbose\u001B[49m\u001B[38;5;241;43m=\u001B[39;49m\u001B[43mverbose\u001B[49m\u001B[43m,\u001B[49m\n\u001B[1;32m   1301\u001B[0m \u001B[43m            \u001B[49m\u001B[43mwith_cuda\u001B[49m\u001B[38;5;241;43m=\u001B[39;49m\u001B[43mwith_cuda\u001B[49m\u001B[43m,\u001B[49m\n\u001B[1;32m   1302\u001B[0m \u001B[43m            \u001B[49m\u001B[43mis_standalone\u001B[49m\u001B[38;5;241;43m=\u001B[39;49m\u001B[43mis_standalone\u001B[49m\u001B[43m)\u001B[49m\n\u001B[1;32m   1303\u001B[0m \u001B[38;5;28;01mfinally\u001B[39;00m:\n\u001B[1;32m   1304\u001B[0m     baton\u001B[38;5;241m.\u001B[39mrelease()\n",
      "File \u001B[0;32m~/miniconda3/envs/ridcp/lib/python3.8/site-packages/torch/utils/cpp_extension.py:1373\u001B[0m, in \u001B[0;36m_write_ninja_file_and_build_library\u001B[0;34m(name, sources, extra_cflags, extra_cuda_cflags, extra_ldflags, extra_include_paths, build_directory, verbose, with_cuda, is_standalone)\u001B[0m\n\u001B[1;32m   1362\u001B[0m \u001B[38;5;28;01mdef\u001B[39;00m \u001B[38;5;21m_write_ninja_file_and_build_library\u001B[39m(\n\u001B[1;32m   1363\u001B[0m         name,\n\u001B[1;32m   1364\u001B[0m         sources: List[\u001B[38;5;28mstr\u001B[39m],\n\u001B[0;32m   (...)\u001B[0m\n\u001B[1;32m   1371\u001B[0m         with_cuda: Optional[\u001B[38;5;28mbool\u001B[39m],\n\u001B[1;32m   1372\u001B[0m         is_standalone: \u001B[38;5;28mbool\u001B[39m \u001B[38;5;241m=\u001B[39m \u001B[38;5;28;01mFalse\u001B[39;00m) \u001B[38;5;241m-\u001B[39m\u001B[38;5;241m>\u001B[39m \u001B[38;5;28;01mNone\u001B[39;00m:\n\u001B[0;32m-> 1373\u001B[0m     \u001B[43mverify_ninja_availability\u001B[49m\u001B[43m(\u001B[49m\u001B[43m)\u001B[49m\n\u001B[1;32m   1374\u001B[0m     \u001B[38;5;28;01mif\u001B[39;00m IS_WINDOWS:\n\u001B[1;32m   1375\u001B[0m         compiler \u001B[38;5;241m=\u001B[39m os\u001B[38;5;241m.\u001B[39menviron\u001B[38;5;241m.\u001B[39mget(\u001B[38;5;124m'\u001B[39m\u001B[38;5;124mCXX\u001B[39m\u001B[38;5;124m'\u001B[39m, \u001B[38;5;124m'\u001B[39m\u001B[38;5;124mcl\u001B[39m\u001B[38;5;124m'\u001B[39m)\n",
      "File \u001B[0;32m~/miniconda3/envs/ridcp/lib/python3.8/site-packages/torch/utils/cpp_extension.py:1429\u001B[0m, in \u001B[0;36mverify_ninja_availability\u001B[0;34m()\u001B[0m\n\u001B[1;32m   1424\u001B[0m \u001B[38;5;250m\u001B[39m\u001B[38;5;124mr\u001B[39m\u001B[38;5;124;03m'''\u001B[39;00m\n\u001B[1;32m   1425\u001B[0m \u001B[38;5;124;03mRaises ``RuntimeError`` if `ninja <https://ninja-build.org/>`_ build system is not\u001B[39;00m\n\u001B[1;32m   1426\u001B[0m \u001B[38;5;124;03mavailable on the system, does nothing otherwise.\u001B[39;00m\n\u001B[1;32m   1427\u001B[0m \u001B[38;5;124;03m'''\u001B[39;00m\n\u001B[1;32m   1428\u001B[0m \u001B[38;5;28;01mif\u001B[39;00m \u001B[38;5;129;01mnot\u001B[39;00m is_ninja_available():\n\u001B[0;32m-> 1429\u001B[0m     \u001B[38;5;28;01mraise\u001B[39;00m \u001B[38;5;167;01mRuntimeError\u001B[39;00m(\u001B[38;5;124m\"\u001B[39m\u001B[38;5;124mNinja is required to load C++ extensions\u001B[39m\u001B[38;5;124m\"\u001B[39m)\n",
      "\u001B[0;31mRuntimeError\u001B[0m: Ninja is required to load C++ extensions"
     ]
    }
   ],
   "source": [
    "from benchmark.RIDCP.run import get_model"
   ],
   "metadata": {
    "collapsed": false,
    "ExecuteTime": {
     "end_time": "2023-11-14T08:38:19.893744300Z",
     "start_time": "2023-11-14T08:38:15.848148400Z"
    }
   },
   "id": "3bb97bc3169f131b"
  },
  {
   "cell_type": "code",
   "execution_count": null,
   "outputs": [],
   "source": [
    "enumerate"
   ],
   "metadata": {
    "collapsed": false
   },
   "id": "8dd08270e514b4d9"
  }
 ],
 "metadata": {
  "kernelspec": {
   "name": "ridcp",
   "language": "python",
   "display_name": "ridcp"
  },
  "language_info": {
   "codemirror_mode": {
    "name": "ipython",
    "version": 2
   },
   "file_extension": ".py",
   "mimetype": "text/x-python",
   "name": "python",
   "nbconvert_exporter": "python",
   "pygments_lexer": "ipython2",
   "version": "2.7.6"
  }
 },
 "nbformat": 4,
 "nbformat_minor": 5
}
